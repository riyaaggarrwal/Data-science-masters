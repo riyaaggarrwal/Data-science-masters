{
 "cells": [
  {
   "cell_type": "markdown",
   "id": "d6976e37-cf6d-40f3-aa04-7c4b2e4c3d5f",
   "metadata": {},
   "source": [
    "keyword used to create a function is def"
   ]
  },
  {
   "cell_type": "code",
   "execution_count": 4,
   "id": "bfa4520c-7494-487f-8440-93502bf869d4",
   "metadata": {},
   "outputs": [],
   "source": [
    "##a function to return a list of odd numbers in the range of 1 to 25.\n",
    "def odd(l):\n",
    "    n=[]\n",
    "    for i in l:\n",
    "        if i%2 != 0:\n",
    "            n.append(i)\n",
    "    return n\n",
    "    "
   ]
  },
  {
   "cell_type": "code",
   "execution_count": 5,
   "id": "0954c874-682a-41e9-8865-5fc7f4d44745",
   "metadata": {},
   "outputs": [
    {
     "data": {
      "text/plain": [
       "[13, 45, 23]"
      ]
     },
     "execution_count": 5,
     "metadata": {},
     "output_type": "execute_result"
    }
   ],
   "source": [
    "l=[13,56,45,23,44,66]\n",
    "odd(l)"
   ]
  },
  {
   "cell_type": "markdown",
   "id": "fab4a86a-3f99-4d20-ab86-81ac772ede11",
   "metadata": {},
   "source": [
    "use of *args and **kwargs in function:"
   ]
  },
  {
   "cell_type": "markdown",
   "id": "1411e603-3869-4dd6-ad7d-83bcdeae9010",
   "metadata": {},
   "source": [
    "*args is used to pass a variable no. of arguments to a function.\n",
    "**kwargs is used to pass a dictionary argument to a function.\n"
   ]
  },
  {
   "cell_type": "code",
   "execution_count": 6,
   "id": "3e53b2c3-1922-4b93-8370-d7085cbb7fa0",
   "metadata": {},
   "outputs": [],
   "source": [
    "def test1(*args):\n",
    "    l=[]\n",
    "    for i in args:\n",
    "        if type(i)==list:\n",
    "            l.append(i)\n",
    "            \n",
    "    return l\n"
   ]
  },
  {
   "cell_type": "code",
   "execution_count": 7,
   "id": "4293b330-b7df-48fd-9975-06bac2a21470",
   "metadata": {},
   "outputs": [
    {
     "data": {
      "text/plain": [
       "[[2, 3, 4]]"
      ]
     },
     "execution_count": 7,
     "metadata": {},
     "output_type": "execute_result"
    }
   ],
   "source": [
    "test1((1,23,3),[2,3,4],\"skills\",\"pw\")"
   ]
  },
  {
   "cell_type": "code",
   "execution_count": 16,
   "id": "7d8bba35-2177-452a-93e8-94d34df3b35a",
   "metadata": {},
   "outputs": [],
   "source": [
    "def test2(**kwargs):\n",
    "    for i in kwargs.keys():\n",
    "         if i==\"b\":\n",
    "            return kwargs[i] \n",
    "                \n",
    "        \n"
   ]
  },
  {
   "cell_type": "code",
   "execution_count": 17,
   "id": "7f3137c4-66c0-4d59-b876-528d3f1ecec2",
   "metadata": {},
   "outputs": [
    {
     "data": {
      "text/plain": [
       "35"
      ]
     },
     "execution_count": 17,
     "metadata": {},
     "output_type": "execute_result"
    }
   ],
   "source": [
    "test2(a = 34, b=35, c=[1,2,3] ,d=(\"sudh\",\"kumar\"))"
   ]
  },
  {
   "cell_type": "markdown",
   "id": "c80fb7d0-7f6e-453f-9e05-c6c733029dbf",
   "metadata": {
    "tags": []
   },
   "source": [
    "### generator function in python\n"
   ]
  },
  {
   "cell_type": "markdown",
   "id": "3ebac170-6798-4c3d-a7e1-7a7cc1b114f8",
   "metadata": {},
   "source": [
    "Generate function is used to produce a sequence of values when iteration is over.\n",
    "These are useful when we want to produce a larg seq of values,but don't want to store them all in memory at once.\n",
    "keyword \"yeild\" is used in generator function because yeild keyword pauses generate function execution.\n"
   ]
  },
  {
   "cell_type": "code",
   "execution_count": 20,
   "id": "077a54cd-a617-46e5-9a31-c188084314e3",
   "metadata": {},
   "outputs": [
    {
     "name": "stdout",
     "output_type": "stream",
     "text": [
      "0\n",
      "1\n",
      "1\n",
      "2\n",
      "3\n",
      "5\n",
      "8\n",
      "13\n",
      "21\n",
      "34\n"
     ]
    }
   ],
   "source": [
    "def fib_test(n):\n",
    "    a,b=0,1\n",
    "    for i in range(n):\n",
    "        yield a\n",
    "        a,b=b,a+b\n",
    "for i in fib_test(10):\n",
    "    print (i)\n",
    "        "
   ]
  },
  {
   "cell_type": "markdown",
   "id": "8129e724-7b83-46db-933a-d4adaf608006",
   "metadata": {},
   "source": [
    "A generator function for prime numbers less than 1000."
   ]
  },
  {
   "cell_type": "code",
   "execution_count": 11,
   "id": "46952017-3848-47de-a7b1-116b090064b6",
   "metadata": {},
   "outputs": [
    {
     "name": "stdout",
     "output_type": "stream",
     "text": [
      "2\n",
      "3\n",
      "5\n",
      "7\n",
      "11\n",
      "13\n",
      "17\n",
      "19\n",
      "23\n",
      "29\n",
      "31\n",
      "37\n",
      "41\n",
      "43\n",
      "47\n",
      "53\n",
      "59\n",
      "61\n",
      "67\n",
      "71\n"
     ]
    }
   ],
   "source": [
    "def generate_primes():\n",
    "    # Generate prime numbers less than 1000\n",
    "    for num in range(2, 1000):\n",
    "        is_prime = True\n",
    "        for i in range(2, num):\n",
    "            if num % i == 0:\n",
    "                is_prime = False\n",
    "                break\n",
    "        if is_prime:\n",
    "            yield num\n",
    "primes = generate_primes()\n",
    "for i in range(20):\n",
    "    print(next(primes))"
   ]
  },
  {
   "cell_type": "code",
   "execution_count": null,
   "id": "5d08b2d2-6ccc-4c2c-924b-6c14b4cd69d3",
   "metadata": {},
   "outputs": [],
   "source": []
  }
 ],
 "metadata": {
  "kernelspec": {
   "display_name": "Python 3 (ipykernel)",
   "language": "python",
   "name": "python3"
  },
  "language_info": {
   "codemirror_mode": {
    "name": "ipython",
    "version": 3
   },
   "file_extension": ".py",
   "mimetype": "text/x-python",
   "name": "python",
   "nbconvert_exporter": "python",
   "pygments_lexer": "ipython3",
   "version": "3.10.8"
  }
 },
 "nbformat": 4,
 "nbformat_minor": 5
}
